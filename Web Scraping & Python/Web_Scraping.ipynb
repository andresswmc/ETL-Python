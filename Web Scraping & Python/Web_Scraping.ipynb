{
 "cells": [
  {
   "cell_type": "code",
   "execution_count": 53,
   "id": "2545ec26",
   "metadata": {},
   "outputs": [],
   "source": [
    "import requests\n",
    "from bs4 import BeautifulSoup\n",
    "import re\n",
    "import pandas as pd"
   ]
  },
  {
   "cell_type": "markdown",
   "id": "2550b4d1",
   "metadata": {},
   "source": [
    "## Fase de exploración"
   ]
  },
  {
   "cell_type": "markdown",
   "id": "fa6f0e77",
   "metadata": {},
   "source": [
    "Obtenemos la página HTML desde transfermarkt de Leo Messi:"
   ]
  },
  {
   "cell_type": "code",
   "execution_count": 45,
   "id": "069e131f",
   "metadata": {},
   "outputs": [],
   "source": [
    "url = \"https://www.transfermarkt.com/cristiano-ronaldo/profil/spieler/8198\"\n",
    "headers = {'User-Agent': 'Mozilla/5.0 (X11; Linux x86_64) AppleWebKit/537.36 (KHTML, like Gecko) Chrome/47.0.2526.106 Safari/537.36'}\n",
    "html = requests.get(url, headers= headers)"
   ]
  },
  {
   "cell_type": "markdown",
   "id": "f8815a8f",
   "metadata": {},
   "source": [
    "Importamos en BS"
   ]
  },
  {
   "cell_type": "code",
   "execution_count": 46,
   "id": "7a385308",
   "metadata": {},
   "outputs": [],
   "source": [
    "soup = BeautifulSoup(html.content, 'html.parser')"
   ]
  },
  {
   "cell_type": "markdown",
   "id": "ca020058",
   "metadata": {},
   "source": [
    "Desarrollamos la extracción del valor de mercado"
   ]
  },
  {
   "cell_type": "code",
   "execution_count": 47,
   "id": "6c12a625",
   "metadata": {},
   "outputs": [],
   "source": [
    "valor = soup.find_all(\"div\", {\"class\": \"right-td\"})[0].text.strip()"
   ]
  },
  {
   "cell_type": "code",
   "execution_count": 48,
   "id": "f9b6c2ce",
   "metadata": {
    "scrolled": false
   },
   "outputs": [
    {
     "data": {
      "text/plain": [
       "45.0"
      ]
     },
     "execution_count": 48,
     "metadata": {},
     "output_type": "execute_result"
    }
   ],
   "source": [
    "regex_valor = re.compile('\\d+\\.\\d+')\n",
    "valor = float(regex_valor.search(valor)[0])\n",
    "valor"
   ]
  },
  {
   "cell_type": "markdown",
   "id": "288faecc",
   "metadata": {},
   "source": [
    "Desarrollamos la extracción del equipo"
   ]
  },
  {
   "cell_type": "code",
   "execution_count": 31,
   "id": "ac7de64a",
   "metadata": {},
   "outputs": [
    {
     "data": {
      "text/plain": [
       "'Man Utd'"
      ]
     },
     "execution_count": 31,
     "metadata": {},
     "output_type": "execute_result"
    }
   ],
   "source": [
    "equipo = soup.find_all(\"span\", {\"class\": \"hauptpunkt\"})[0].text\n",
    "equipo"
   ]
  },
  {
   "cell_type": "markdown",
   "id": "ccbb90eb",
   "metadata": {},
   "source": [
    "## Fase de explotación"
   ]
  },
  {
   "cell_type": "code",
   "execution_count": 32,
   "id": "a78c9788",
   "metadata": {},
   "outputs": [],
   "source": [
    "jugadores = {'Lionel Messi': \"https://www.transfermarkt.com/lionel-messi/profil/spieler/28003\", 'Cristiano Ronaldo': \"https://www.transfermarkt.com/cristiano-ronaldo/profil/spieler/8198\", \"Kylian Mbappé\": \"https://www.transfermarkt.com/kylian-mbappe/profil/spieler/342229\", \"Erling Haaland\": \"https://www.transfermarkt.com/erling-haaland/profil/spieler/418560\"} "
   ]
  },
  {
   "cell_type": "code",
   "execution_count": 33,
   "id": "5270915f",
   "metadata": {},
   "outputs": [
    {
     "data": {
      "text/plain": [
       "'https://www.transfermarkt.com/lionel-messi/profil/spieler/28003'"
      ]
     },
     "execution_count": 33,
     "metadata": {},
     "output_type": "execute_result"
    }
   ],
   "source": [
    "jugadores[\"Lionel Messi\"]"
   ]
  },
  {
   "cell_type": "code",
   "execution_count": 49,
   "id": "0f4de447",
   "metadata": {},
   "outputs": [],
   "source": [
    "equipos = []\n",
    "estimacion_mercado = []\n",
    "\n",
    "for jugador in jugadores.keys():\n",
    "    #descargamos el HTML\n",
    "    url = jugadores[jugador]\n",
    "    headers = {'User-Agent': 'Mozilla/5.0 (X11; Linux x86_64) AppleWebKit/537.36 (KHTML, like Gecko) Chrome/47.0.2526.106 Safari/537.36'}\n",
    "    html = requests.get(url, headers= headers)\n",
    "    \n",
    "    #parseamos con bs\n",
    "    soup = BeautifulSoup(html.content, 'html.parser')\n",
    "    \n",
    "    #obtenemos equipo\n",
    "    equipo = soup.find_all(\"span\", {\"class\": \"hauptpunkt\"})[0].text\n",
    "    equipos.append(equipo)\n",
    "    \n",
    "    #obtenemos la valoracion de mercado\n",
    "    valor = soup.find_all(\"div\", {\"class\": \"right-td\"})[0].text.strip()\n",
    "    regex_valor = re.compile('\\d+\\.\\d+')\n",
    "    valor = float(regex_valor.search(valor)[0])\n",
    "    estimacion_mercado.append(valor)"
   ]
  },
  {
   "cell_type": "code",
   "execution_count": 51,
   "id": "c5f7b9bd",
   "metadata": {},
   "outputs": [
    {
     "data": {
      "text/plain": [
       "[80.0, 45.0, 160.0, 150.0]"
      ]
     },
     "execution_count": 51,
     "metadata": {},
     "output_type": "execute_result"
    }
   ],
   "source": [
    "estimacion_mercado"
   ]
  },
  {
   "cell_type": "code",
   "execution_count": 54,
   "id": "18ac69ed",
   "metadata": {
    "scrolled": true
   },
   "outputs": [
    {
     "data": {
      "text/html": [
       "<div>\n",
       "<style scoped>\n",
       "    .dataframe tbody tr th:only-of-type {\n",
       "        vertical-align: middle;\n",
       "    }\n",
       "\n",
       "    .dataframe tbody tr th {\n",
       "        vertical-align: top;\n",
       "    }\n",
       "\n",
       "    .dataframe thead th {\n",
       "        text-align: right;\n",
       "    }\n",
       "</style>\n",
       "<table border=\"1\" class=\"dataframe\">\n",
       "  <thead>\n",
       "    <tr style=\"text-align: right;\">\n",
       "      <th></th>\n",
       "      <th>jugador</th>\n",
       "      <th>equipo</th>\n",
       "      <th>valor_mercado_estim</th>\n",
       "    </tr>\n",
       "  </thead>\n",
       "  <tbody>\n",
       "    <tr>\n",
       "      <th>0</th>\n",
       "      <td>Lionel Messi</td>\n",
       "      <td>Paris SG</td>\n",
       "      <td>80.0</td>\n",
       "    </tr>\n",
       "    <tr>\n",
       "      <th>1</th>\n",
       "      <td>Cristiano Ronaldo</td>\n",
       "      <td>Man Utd</td>\n",
       "      <td>45.0</td>\n",
       "    </tr>\n",
       "    <tr>\n",
       "      <th>2</th>\n",
       "      <td>Kylian Mbappé</td>\n",
       "      <td>Paris SG</td>\n",
       "      <td>160.0</td>\n",
       "    </tr>\n",
       "    <tr>\n",
       "      <th>3</th>\n",
       "      <td>Erling Haaland</td>\n",
       "      <td>Bor. Dortmund</td>\n",
       "      <td>150.0</td>\n",
       "    </tr>\n",
       "  </tbody>\n",
       "</table>\n",
       "</div>"
      ],
      "text/plain": [
       "             jugador         equipo  valor_mercado_estim\n",
       "0       Lionel Messi       Paris SG                 80.0\n",
       "1  Cristiano Ronaldo        Man Utd                 45.0\n",
       "2      Kylian Mbappé       Paris SG                160.0\n",
       "3     Erling Haaland  Bor. Dortmund                150.0"
      ]
     },
     "execution_count": 54,
     "metadata": {},
     "output_type": "execute_result"
    }
   ],
   "source": [
    "pd.DataFrame({'jugador': list(jugadores.keys()), 'equipo': equipos, 'valor_mercado_estim': estimacion_mercado})"
   ]
  }
 ],
 "metadata": {
  "kernelspec": {
   "display_name": "Python 3 (ipykernel)",
   "language": "python",
   "name": "python3"
  },
  "language_info": {
   "codemirror_mode": {
    "name": "ipython",
    "version": 3
   },
   "file_extension": ".py",
   "mimetype": "text/x-python",
   "name": "python",
   "nbconvert_exporter": "python",
   "pygments_lexer": "ipython3",
   "version": "3.9.7"
  }
 },
 "nbformat": 4,
 "nbformat_minor": 5
}

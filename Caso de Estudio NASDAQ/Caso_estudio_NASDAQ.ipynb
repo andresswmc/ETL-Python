{
 "cells": [
  {
   "attachments": {},
   "cell_type": "markdown",
   "metadata": {},
   "source": [
    "## Caso: Dataset para análisis correlación entre la valoración del bitcoin y valores NASDAQ"
   ]
  },
  {
   "attachments": {},
   "cell_type": "markdown",
   "metadata": {},
   "source": [
    "El caso al que pretendemos dar respuesta trata de generar un set de datos que permita, posteriormente, entrenar algún modelo estadístico para evaluar si un subconjunto de valores bursátiles de empresas tecnológicas cotizadas mantiene correlación con la valoración del Bitcoin (BTC).  "
   ]
  },
  {
   "attachments": {},
   "cell_type": "markdown",
   "metadata": {},
   "source": [
    "Este tipo de modelos toman como *input* un tablón de datos con la siguiente estructura:\n",
    "- Cada columna será tomada como una variable predictora.\n",
    "- Existe una columna identificada como variable objetivo con los datos de la variable a predecir para su entrenamiento, test y validación.\n",
    "- Cada registro representa una unidad observacional."
   ]
  },
  {
   "attachments": {},
   "cell_type": "markdown",
   "metadata": {},
   "source": [
    "### 1- Diseño del prototipo de producto"
   ]
  },
  {
   "attachments": {},
   "cell_type": "markdown",
   "metadata": {},
   "source": [
    "Partiendo de que el objetivo es proveer de un buen producto para su posterior análisis, el requisito principal que este impone es básicamente el formato. En este caso, una tabla con variables predictoras, variable objetivo y con un registro para cada instancia de la unidad observacional a tratar. Vamos a intentar mapear estos requisitos formales a nuestro caso:"
   ]
  },
  {
   "attachments": {},
   "cell_type": "markdown",
   "metadata": {},
   "source": [
    "**Unidad observacional**"
   ]
  },
  {
   "attachments": {},
   "cell_type": "markdown",
   "metadata": {},
   "source": [
    "Cada registro de nuestra tabla corresponderá a un día en el cual se tomará una muestra de la valoración de cada empresa en NASDAQ y el valor del BTC.\n",
    "\n",
    "2021-10-01 | `... variables predictoras ...` | `variable objetivo`"
   ]
  },
  {
   "attachments": {},
   "cell_type": "markdown",
   "metadata": {},
   "source": [
    "Por lo tanto, la `columna índice` será el propio día en el que se tome la muestra."
   ]
  },
  {
   "attachments": {},
   "cell_type": "markdown",
   "metadata": {},
   "source": [
    "**Variables predictoras**"
   ]
  },
  {
   "attachments": {},
   "cell_type": "markdown",
   "metadata": {},
   "source": [
    "En este caso, será información relacionada con la valoración de las empresas del NASDAQ del estudio durante el día del muestreo. Para cada empresa cotizada se quiere obtener:\n",
    "- Valoración al cierre de la jornada.\n",
    "- Diferencia entre apertura y cierre.\n",
    "- Tendencia de la jornada.\n",
    "- Rango del día."
   ]
  },
  {
   "attachments": {},
   "cell_type": "markdown",
   "metadata": {},
   "source": [
    "**Variable objetivo**"
   ]
  },
  {
   "attachments": {},
   "cell_type": "markdown",
   "metadata": {},
   "source": [
    "La variable objetivo en este caso será el valor del Bitcoin en el momento de la consulta."
   ]
  },
  {
   "attachments": {},
   "cell_type": "markdown",
   "metadata": {},
   "source": [
    "**Prototipo de la tabla final** <a name=\"tablon_final\"></a>"
   ]
  },
  {
   "cell_type": "code",
   "execution_count": 1,
   "metadata": {},
   "outputs": [],
   "source": [
    "import pandas as pd\n",
    "import numpy as np\n",
    "\n",
    "dias = pd.date_range('2021-10-01', '2021-10-10', freq='d')\n",
    "\n",
    "valor_1_cierre = np.random.uniform(low=10.0, high=2000.0, size=10)\n",
    "\n",
    "valor_1_dif = np.random.uniform(low=10.0, high=2000.0, size=10)\n",
    "\n",
    "valor_1_tend = np.random.choice(a=('-', '+'), p=(0.5,0.5), size=10)\n",
    "\n",
    "valor_1_rango = np.random.uniform(low=10.0, high=2000.0, size=10)\n",
    "\n",
    "valor_2_cierre = np.random.uniform(low=10.0, high=2000.0, size=10)\n",
    "\n",
    "valor_2_dif = np.random.uniform(low=10.0, high=2000.0, size=10)\n",
    "\n",
    "valor_2_tend = np.random.choice(a=('-', '+'), p=(0.5,0.5), size=10)\n",
    "\n",
    "valor_2_rango = np.random.uniform(low=10.0, high=2000.0, size=10)\n",
    "\n",
    "valor_btc = np.random.uniform(low=10.0, high=20000.0, size=10)\n"
   ]
  },
  {
   "cell_type": "code",
   "execution_count": 2,
   "metadata": {},
   "outputs": [
    {
     "data": {
      "text/html": [
       "<div>\n",
       "<style scoped>\n",
       "    .dataframe tbody tr th:only-of-type {\n",
       "        vertical-align: middle;\n",
       "    }\n",
       "\n",
       "    .dataframe tbody tr th {\n",
       "        vertical-align: top;\n",
       "    }\n",
       "\n",
       "    .dataframe thead th {\n",
       "        text-align: right;\n",
       "    }\n",
       "</style>\n",
       "<table border=\"1\" class=\"dataframe\">\n",
       "  <thead>\n",
       "    <tr style=\"text-align: right;\">\n",
       "      <th></th>\n",
       "      <th>V1_cierre</th>\n",
       "      <th>V1_dif</th>\n",
       "      <th>V1_tend</th>\n",
       "      <th>V1_rango</th>\n",
       "      <th>V2_cierre</th>\n",
       "      <th>V2_dif</th>\n",
       "      <th>V2_tend</th>\n",
       "      <th>V2_rango</th>\n",
       "      <th>V_BTC</th>\n",
       "    </tr>\n",
       "  </thead>\n",
       "  <tbody>\n",
       "    <tr>\n",
       "      <th>2021-10-01</th>\n",
       "      <td>1862.147181</td>\n",
       "      <td>808.664749</td>\n",
       "      <td>+</td>\n",
       "      <td>1914.664062</td>\n",
       "      <td>367.328070</td>\n",
       "      <td>1495.766115</td>\n",
       "      <td>+</td>\n",
       "      <td>351.638059</td>\n",
       "      <td>5775.340075</td>\n",
       "    </tr>\n",
       "    <tr>\n",
       "      <th>2021-10-02</th>\n",
       "      <td>1374.664399</td>\n",
       "      <td>609.805537</td>\n",
       "      <td>-</td>\n",
       "      <td>537.073900</td>\n",
       "      <td>904.694006</td>\n",
       "      <td>1314.095612</td>\n",
       "      <td>-</td>\n",
       "      <td>332.985376</td>\n",
       "      <td>12039.723032</td>\n",
       "    </tr>\n",
       "    <tr>\n",
       "      <th>2021-10-03</th>\n",
       "      <td>398.375243</td>\n",
       "      <td>186.709434</td>\n",
       "      <td>+</td>\n",
       "      <td>509.876106</td>\n",
       "      <td>1027.538715</td>\n",
       "      <td>796.975815</td>\n",
       "      <td>-</td>\n",
       "      <td>933.024378</td>\n",
       "      <td>19707.742250</td>\n",
       "    </tr>\n",
       "    <tr>\n",
       "      <th>2021-10-04</th>\n",
       "      <td>158.154944</td>\n",
       "      <td>1218.457483</td>\n",
       "      <td>-</td>\n",
       "      <td>195.011753</td>\n",
       "      <td>1426.446925</td>\n",
       "      <td>1258.951433</td>\n",
       "      <td>+</td>\n",
       "      <td>1156.488519</td>\n",
       "      <td>8202.182108</td>\n",
       "    </tr>\n",
       "    <tr>\n",
       "      <th>2021-10-05</th>\n",
       "      <td>47.513352</td>\n",
       "      <td>364.983668</td>\n",
       "      <td>+</td>\n",
       "      <td>500.462432</td>\n",
       "      <td>1397.097412</td>\n",
       "      <td>491.976100</td>\n",
       "      <td>-</td>\n",
       "      <td>1767.175123</td>\n",
       "      <td>3673.285393</td>\n",
       "    </tr>\n",
       "    <tr>\n",
       "      <th>2021-10-06</th>\n",
       "      <td>1071.133151</td>\n",
       "      <td>436.682367</td>\n",
       "      <td>+</td>\n",
       "      <td>44.549658</td>\n",
       "      <td>943.104322</td>\n",
       "      <td>1792.945806</td>\n",
       "      <td>+</td>\n",
       "      <td>895.393561</td>\n",
       "      <td>13651.557618</td>\n",
       "    </tr>\n",
       "    <tr>\n",
       "      <th>2021-10-07</th>\n",
       "      <td>1545.437352</td>\n",
       "      <td>245.656165</td>\n",
       "      <td>+</td>\n",
       "      <td>1203.548134</td>\n",
       "      <td>1402.113398</td>\n",
       "      <td>1656.337107</td>\n",
       "      <td>-</td>\n",
       "      <td>1518.617351</td>\n",
       "      <td>7664.229370</td>\n",
       "    </tr>\n",
       "    <tr>\n",
       "      <th>2021-10-08</th>\n",
       "      <td>1615.380452</td>\n",
       "      <td>1087.727099</td>\n",
       "      <td>-</td>\n",
       "      <td>262.537495</td>\n",
       "      <td>1362.127908</td>\n",
       "      <td>174.337060</td>\n",
       "      <td>-</td>\n",
       "      <td>946.639428</td>\n",
       "      <td>321.224931</td>\n",
       "    </tr>\n",
       "    <tr>\n",
       "      <th>2021-10-09</th>\n",
       "      <td>488.902998</td>\n",
       "      <td>314.892146</td>\n",
       "      <td>+</td>\n",
       "      <td>1607.464077</td>\n",
       "      <td>380.020077</td>\n",
       "      <td>1616.963816</td>\n",
       "      <td>+</td>\n",
       "      <td>267.416487</td>\n",
       "      <td>3457.085489</td>\n",
       "    </tr>\n",
       "    <tr>\n",
       "      <th>2021-10-10</th>\n",
       "      <td>791.557975</td>\n",
       "      <td>30.976920</td>\n",
       "      <td>-</td>\n",
       "      <td>685.644438</td>\n",
       "      <td>696.329533</td>\n",
       "      <td>1964.624416</td>\n",
       "      <td>+</td>\n",
       "      <td>1103.960481</td>\n",
       "      <td>15286.642534</td>\n",
       "    </tr>\n",
       "  </tbody>\n",
       "</table>\n",
       "</div>"
      ],
      "text/plain": [
       "              V1_cierre       V1_dif V1_tend     V1_rango    V2_cierre  \\\n",
       "2021-10-01  1862.147181   808.664749       +  1914.664062   367.328070   \n",
       "2021-10-02  1374.664399   609.805537       -   537.073900   904.694006   \n",
       "2021-10-03   398.375243   186.709434       +   509.876106  1027.538715   \n",
       "2021-10-04   158.154944  1218.457483       -   195.011753  1426.446925   \n",
       "2021-10-05    47.513352   364.983668       +   500.462432  1397.097412   \n",
       "2021-10-06  1071.133151   436.682367       +    44.549658   943.104322   \n",
       "2021-10-07  1545.437352   245.656165       +  1203.548134  1402.113398   \n",
       "2021-10-08  1615.380452  1087.727099       -   262.537495  1362.127908   \n",
       "2021-10-09   488.902998   314.892146       +  1607.464077   380.020077   \n",
       "2021-10-10   791.557975    30.976920       -   685.644438   696.329533   \n",
       "\n",
       "                 V2_dif V2_tend     V2_rango         V_BTC  \n",
       "2021-10-01  1495.766115       +   351.638059   5775.340075  \n",
       "2021-10-02  1314.095612       -   332.985376  12039.723032  \n",
       "2021-10-03   796.975815       -   933.024378  19707.742250  \n",
       "2021-10-04  1258.951433       +  1156.488519   8202.182108  \n",
       "2021-10-05   491.976100       -  1767.175123   3673.285393  \n",
       "2021-10-06  1792.945806       +   895.393561  13651.557618  \n",
       "2021-10-07  1656.337107       -  1518.617351   7664.229370  \n",
       "2021-10-08   174.337060       -   946.639428    321.224931  \n",
       "2021-10-09  1616.963816       +   267.416487   3457.085489  \n",
       "2021-10-10  1964.624416       +  1103.960481  15286.642534  "
      ]
     },
     "execution_count": 2,
     "metadata": {},
     "output_type": "execute_result"
    }
   ],
   "source": [
    "pd.DataFrame({'V1_cierre': valor_1_cierre,\n",
    "              'V1_dif': valor_1_dif,\n",
    "              'V1_tend': valor_1_tend,\n",
    "              'V1_rango': valor_1_rango,\n",
    "              'V2_cierre': valor_2_cierre,\n",
    "              'V2_dif': valor_2_dif,\n",
    "              'V2_tend': valor_2_tend,\n",
    "              'V2_rango': valor_2_rango,\n",
    "              'V_BTC': valor_btc\n",
    "             }, index=dias)"
   ]
  },
  {
   "attachments": {},
   "cell_type": "markdown",
   "metadata": {},
   "source": [
    "### 2- Extracción"
   ]
  },
  {
   "attachments": {},
   "cell_type": "markdown",
   "metadata": {},
   "source": [
    "#### ¿De dónde obtenemos los datos?"
   ]
  },
  {
   "attachments": {},
   "cell_type": "markdown",
   "metadata": {},
   "source": [
    "Existen varias fuentes de datos disponibles para este tipo de valores. Sin embargo, hemos elegido los siguientes:"
   ]
  },
  {
   "attachments": {},
   "cell_type": "markdown",
   "metadata": {},
   "source": [
    "*Para los valores de las empresas a consultar en NASDAQ*"
   ]
  },
  {
   "attachments": {},
   "cell_type": "markdown",
   "metadata": {},
   "source": [
    "En este caso, una de las fuentes más usadas en Yahoo Finance. Para presentar una nueva tipología de fuentes de datos, presentaremos `yfinance`, una librería que hace de *wrapper* para Python de la API de Yahoo Finance.\n",
    "\n",
    "Este tipo de librerías nos facilitan mucho el trabajar con APIs puesto que implementan con clases y métodos el tipo de interacciones que solemos hacer. Otro ejemplo de este tipo podría ser `tweepy`, que permite interaccionar con la API de Twitter."
   ]
  },
  {
   "attachments": {},
   "cell_type": "markdown",
   "metadata": {},
   "source": [
    "*Para los valores de BTC*"
   ]
  },
  {
   "attachments": {},
   "cell_type": "markdown",
   "metadata": {},
   "source": [
    "Usaremos la API REST \"directa\" en este caso de coinbase."
   ]
  },
  {
   "attachments": {},
   "cell_type": "markdown",
   "metadata": {},
   "source": [
    "#### ¿Con qué frecuencia obtenemos los datos?"
   ]
  },
  {
   "attachments": {},
   "cell_type": "markdown",
   "metadata": {},
   "source": [
    "Las valoraciones de BTC se van actualizando de forma continuada, sin embargo, NASDAQ tiene un calendario y horario para operar. En este caso, nos interesa obtener los datos de las jornadas en que se haya operado en NASDAQ una vez estas hayan finalizado (para poder obtener todas las variables que nos interesan)."
   ]
  },
  {
   "attachments": {},
   "cell_type": "markdown",
   "metadata": {},
   "source": [
    "*Fuente*: http://www.nasdaqtrader.com/trader.aspx?id=calendar"
   ]
  },
  {
   "attachments": {},
   "cell_type": "markdown",
   "metadata": {},
   "source": [
    "#### ¿Qué partición consultamos?"
   ]
  },
  {
   "attachments": {},
   "cell_type": "markdown",
   "metadata": {},
   "source": [
    "*Para los valores de las empresas a consultar en NASDAQ*"
   ]
  },
  {
   "attachments": {},
   "cell_type": "markdown",
   "metadata": {},
   "source": [
    "Vemos si `yfinance` permite:\n",
    "- consultar datos para una empresa determinada\n",
    "- obtener los datos solamente del último día de operación\n",
    "- ver sobre qué variables nos devuelve los datos"
   ]
  },
  {
   "attachments": {},
   "cell_type": "markdown",
   "metadata": {},
   "source": [
    "https://pypi.org/project/yfinance/ - ver método `ticker.history()`"
   ]
  },
  {
   "attachments": {},
   "cell_type": "markdown",
   "metadata": {},
   "source": [
    "Vemos si podemos consultar para solo una empresa y el último día:"
   ]
  },
  {
   "cell_type": "code",
   "execution_count": 3,
   "metadata": {},
   "outputs": [
    {
     "data": {
      "text/html": [
       "<div>\n",
       "<style scoped>\n",
       "    .dataframe tbody tr th:only-of-type {\n",
       "        vertical-align: middle;\n",
       "    }\n",
       "\n",
       "    .dataframe tbody tr th {\n",
       "        vertical-align: top;\n",
       "    }\n",
       "\n",
       "    .dataframe thead th {\n",
       "        text-align: right;\n",
       "    }\n",
       "</style>\n",
       "<table border=\"1\" class=\"dataframe\">\n",
       "  <thead>\n",
       "    <tr style=\"text-align: right;\">\n",
       "      <th></th>\n",
       "      <th>Open</th>\n",
       "      <th>High</th>\n",
       "      <th>Low</th>\n",
       "      <th>Close</th>\n",
       "      <th>Volume</th>\n",
       "      <th>Dividends</th>\n",
       "      <th>Stock Splits</th>\n",
       "    </tr>\n",
       "    <tr>\n",
       "      <th>Date</th>\n",
       "      <th></th>\n",
       "      <th></th>\n",
       "      <th></th>\n",
       "      <th></th>\n",
       "      <th></th>\n",
       "      <th></th>\n",
       "      <th></th>\n",
       "    </tr>\n",
       "  </thead>\n",
       "  <tbody>\n",
       "    <tr>\n",
       "      <th>2021-10-22</th>\n",
       "      <td>3421.0</td>\n",
       "      <td>3429.840088</td>\n",
       "      <td>3331.300049</td>\n",
       "      <td>3335.550049</td>\n",
       "      <td>3133800</td>\n",
       "      <td>0</td>\n",
       "      <td>0</td>\n",
       "    </tr>\n",
       "  </tbody>\n",
       "</table>\n",
       "</div>"
      ],
      "text/plain": [
       "              Open         High          Low        Close   Volume  Dividends  \\\n",
       "Date                                                                            \n",
       "2021-10-22  3421.0  3429.840088  3331.300049  3335.550049  3133800          0   \n",
       "\n",
       "            Stock Splits  \n",
       "Date                      \n",
       "2021-10-22             0  "
      ]
     },
     "execution_count": 3,
     "metadata": {},
     "output_type": "execute_result"
    }
   ],
   "source": [
    "import yfinance as yf\n",
    "\n",
    "tk = yf.Ticker('AMZN')\n",
    "raw_df = pd.DataFrame(tk.history(period='1d'))\n",
    "\n",
    "raw_df"
   ]
  },
  {
   "attachments": {},
   "cell_type": "markdown",
   "metadata": {},
   "source": [
    "La forma de obtener variables de interés es mediante subset."
   ]
  },
  {
   "cell_type": "code",
   "execution_count": 7,
   "metadata": {
    "scrolled": true
   },
   "outputs": [
    {
     "data": {
      "text/html": [
       "<div>\n",
       "<style scoped>\n",
       "    .dataframe tbody tr th:only-of-type {\n",
       "        vertical-align: middle;\n",
       "    }\n",
       "\n",
       "    .dataframe tbody tr th {\n",
       "        vertical-align: top;\n",
       "    }\n",
       "\n",
       "    .dataframe thead th {\n",
       "        text-align: right;\n",
       "    }\n",
       "</style>\n",
       "<table border=\"1\" class=\"dataframe\">\n",
       "  <thead>\n",
       "    <tr style=\"text-align: right;\">\n",
       "      <th></th>\n",
       "      <th>Open</th>\n",
       "      <th>High</th>\n",
       "      <th>Low</th>\n",
       "      <th>Close</th>\n",
       "    </tr>\n",
       "    <tr>\n",
       "      <th>Date</th>\n",
       "      <th></th>\n",
       "      <th></th>\n",
       "      <th></th>\n",
       "      <th></th>\n",
       "    </tr>\n",
       "  </thead>\n",
       "  <tbody>\n",
       "    <tr>\n",
       "      <th>2021-10-20</th>\n",
       "      <td>3452.659912</td>\n",
       "      <td>3462.860107</td>\n",
       "      <td>3400.370117</td>\n",
       "      <td>3421.0</td>\n",
       "    </tr>\n",
       "  </tbody>\n",
       "</table>\n",
       "</div>"
      ],
      "text/plain": [
       "                   Open         High          Low   Close\n",
       "Date                                                     \n",
       "2021-10-20  3452.659912  3462.860107  3400.370117  3421.0"
      ]
     },
     "execution_count": 7,
     "metadata": {},
     "output_type": "execute_result"
    }
   ],
   "source": [
    "raw_df[['Open', 'High', 'Low', 'Close']]"
   ]
  },
  {
   "attachments": {},
   "cell_type": "markdown",
   "metadata": {},
   "source": [
    "Concluimos lo siguiente:\n",
    "- `yfinance` permite consultas por índice bursátil, por lo que vamos a trabajar con un dataframe por empresa como fuente de datos (lista de dataframes). Esto nos obliga a agregarlas para obtener el tablón que deseamos.\n",
    "- la librería permite obtener una partición bastante próxima a nuestro producto deseado.\n",
    "- Existen variables que habrá ingeniar a partir de las existentes."
   ]
  },
  {
   "attachments": {},
   "cell_type": "markdown",
   "metadata": {},
   "source": [
    "*Para los valores de BTC*"
   ]
  },
  {
   "attachments": {},
   "cell_type": "markdown",
   "metadata": {},
   "source": [
    "El enfoque de la API de Coinbase es distinto, puesto que obtiene el valor del BTC en ese preciso momento. Por lo tanto, vamos a tener que consultarlo en un momento determinado y obtener su valor."
   ]
  },
  {
   "cell_type": "code",
   "execution_count": 11,
   "metadata": {},
   "outputs": [
    {
     "data": {
      "text/plain": [
       "{'data': {'base': 'BTC', 'currency': 'USD', 'amount': '61618.41'}}"
      ]
     },
     "execution_count": 11,
     "metadata": {},
     "output_type": "execute_result"
    }
   ],
   "source": [
    "import requests\n",
    "\n",
    "response = requests.get('https://api.coinbase.com/v2/prices/spot?currency=USD')\n",
    "btc_raw = response.json()\n",
    "btc_raw"
   ]
  },
  {
   "cell_type": "code",
   "execution_count": 13,
   "metadata": {
    "scrolled": true
   },
   "outputs": [
    {
     "data": {
      "text/plain": [
       "'61618.41'"
      ]
     },
     "execution_count": 13,
     "metadata": {},
     "output_type": "execute_result"
    }
   ],
   "source": [
    "btc_raw['data']['amount']"
   ]
  },
  {
   "attachments": {},
   "cell_type": "markdown",
   "metadata": {},
   "source": [
    "### 3- Transformación"
   ]
  },
  {
   "attachments": {},
   "cell_type": "markdown",
   "metadata": {},
   "source": [
    "#### QA"
   ]
  },
  {
   "attachments": {},
   "cell_type": "markdown",
   "metadata": {},
   "source": [
    "- Los datos obtenidos desde yfinance nos garantiza un tipo de datos determinado puesto que es directamente una librería implementada en Python (ver documentación).\n",
    "\n",
    "- De los que vienen a través de la API REST de coinbase habrá que asegurar el tipo de dato."
   ]
  },
  {
   "attachments": {},
   "cell_type": "markdown",
   "metadata": {},
   "source": [
    "#### Ingeniería de características"
   ]
  },
  {
   "attachments": {},
   "cell_type": "markdown",
   "metadata": {},
   "source": [
    "Realizamos la ingeniería de variables previa al agregado de forma que el conjunto pueda programarse más eficientemente.\n",
    "\n",
    "Como hemos visto en el prototipo, las variables que esperamos obtener son básicamente relacionadas con los índices bursátiles y el valor del BTC.\n",
    "\n",
    "Entonces, habría que evalaur cuales de estas vienen directamente obtenidas de las fuentes de datos y cuales hay que ingeniar a partir de las otras. Vamos entonces a examinar qué variables pueden ser directamente obtenibles desde las fuentes de datos y qué variables hay que ingeniar. Para las que caigan en esa categoría, vamos a estudiar cómo generarlas.\n",
    "\n",
    "*variables índices bursátiles*\n",
    "- [indicebursatil]_cierre: obtenible directamente a través de la consulta a `yfinance`. Campo `Close`.\n",
    "- [indicebursatil]_dif: hay que ingenierla desde el dataframe obtenido con `yfinance`: `Open` - `Close`.\n",
    "- [indicebursatil]_tend: hay que ingeniarla. Podemos aprovechar el resultado de la variable superior y simplemente evaluar su símbolo.\n",
    "- [indicebursatil]_rango: hay que ingeniarla desde el dataframe obtenido con `yfinance`: `High` - `Low`.\n",
    "- valor_btc: obtenible directamente a través del fichero JSON de respuesta de la API de Coinbase.\n"
   ]
  },
  {
   "attachments": {},
   "cell_type": "markdown",
   "metadata": {},
   "source": [
    "#### Agregado"
   ]
  },
  {
   "attachments": {},
   "cell_type": "markdown",
   "metadata": {},
   "source": [
    "De la extracción e ingeniería de características, vamos a obtener lo siguiente:\n",
    "- Un listado de dataframes con la información bursátil de cada índice.\n",
    "- Un dataframe con el valor del BTC.\n",
    "\n",
    "Para agregarlos, deberemos concatenar los dataframes. Si el valor de BTC podemos formatearlo a dataframe, nos será más fácil de llevarlo a cabo puesto que usaremos solo ese tipo y nos serviremos de métodos de Pandas.\n",
    "\n",
    "Con todo esto, habremos generado nuestro tablón final."
   ]
  },
  {
   "attachments": {},
   "cell_type": "markdown",
   "metadata": {},
   "source": [
    "### 4- Load"
   ]
  },
  {
   "attachments": {},
   "cell_type": "markdown",
   "metadata": {},
   "source": [
    "Sólamente nos quedará resolver dónde guardamos el tablón.\n",
    "\n",
    "**Ubicación**\n",
    "\n",
    "La aproximación que propongo en el caso es guardarlo en una base de datos cloud basada en SQL.\n",
    "\n",
    "De tal forma tendremos los siguientes beneficios:\n",
    "- Tendremos los datos de forma consistente por usar un RDBMS.\n",
    "- El tamaño de nuestro data\n",
    "\n",
    "Vamos a crear una base de datos (y por lo tanto, también una instancia) de Azure SQL Server (solución **PaaS**). Una vez desplegada, el flow va a guardar para cada día que obtenga datos, un registro nuevo con los valores de cada variable en una tabla determinada.\n",
    "\n",
    "Cómo el objetivo de la base de datos será puramente para consultas en los posteriores posibles análisis, vamos a optar por un enfoque **desnormalizado**. De tal forma, solo crearemos una tabla que sea un reflejo del dataframe producto de la fase de análisis.\n",
    "\n",
    "**Conexión**\n",
    "\n",
    "Las bases de datos suelen implementar un protocolo mediante el cual permiten crear conexiones desde otros sistemas (comunmente llamadas cadenas de conexión) llamado ODBC (**O**pen **D**ata**b**ase **C**onnectivity).\n",
    "\n",
    "La forma más común de implementar estas conexiones en Python es mediante la librería `pyodbc`, que permite, a través de una cadena de conexión, generar un cursor que ejecute queries SQL sobre la base de datos. Es el método óptimo para poder pasar a la base de datos solo los registros que genere cada dia (`INSERTS`) a la vez que usamos las menos librerías posibles (por lo tanto somos más eficientes con el uso de recursos).\n",
    "\n",
    "Las interacciones con la base de datos que implementaremos en el flow serán los siguienteS:\n",
    "- Creación de la tabla si no existe: de tal forma, podremos asegurar que si la tabla no existe sea creada y las inserciones se realicen de forma correcta.\n",
    "\n",
    "- Inserción de los valores diarios: pasando como parámetros los valores del día.\n"
   ]
  },
  {
   "attachments": {},
   "cell_type": "markdown",
   "metadata": {},
   "source": [
    "Las tareas de las que se compondrá esta conexión son las siguientes:\n",
    "- Validar la operación en mercados durante el día del flow. Descartar los registros del tablón en caso de que no se haya operado en NASDAQ ese día.\n",
    "- Crear tabla si no existe.\n",
    "- Validar si existe el registro. Si existe descartamos los registros.\n",
    "- Inserción de los registros de la tabla."
   ]
  },
  {
   "attachments": {},
   "cell_type": "markdown",
   "metadata": {},
   "source": [
    "### 5 - Resumen"
   ]
  },
  {
   "attachments": {},
   "cell_type": "markdown",
   "metadata": {},
   "source": [
    "Vamos a recapitular lo que hemos estudiado en este ejercicio de definición del flow.\n",
    "\n",
    "- El producto final va a parecerse al prototipo que hemos definido [aquí](#tablon_final).\n",
    "\n",
    "- Sin embargo, cada ejecución diaria del flow generará un tablón con una fila para ese día, que será insertada en la base de datos. De esta forma usaremos más eficientemente todos los recursos de nuestra infrastructura que intervienen.\n",
    "\n",
    "- Vamos a ejecutar el flow diariamente cuando cierren los mercados consultados. Controlaremos que no se inserten datos en la base de datos cuando haya discordancia entre la fecha del último registro obtenido de los índices de NASDAQ con el de BTC.\n",
    "\n",
    "- En la extracción, trabajaremos con fuentes de datos basadas en API REST y librerías propias (`yfinance`).\n",
    "\n",
    "- En la transformación, llevaremos a cabo sobretodo tareas de ingeniería de variables y agregación de datos.\n",
    "\n",
    "- Vamos a guardar los datos en una base de datos de Azure SQL Server que crearemos en el desarrollo del caso."
   ]
  }
 ],
 "metadata": {
  "kernelspec": {
   "display_name": "Python 3 (ipykernel)",
   "language": "python",
   "name": "python3"
  },
  "language_info": {
   "codemirror_mode": {
    "name": "ipython",
    "version": 3
   },
   "file_extension": ".py",
   "mimetype": "text/x-python",
   "name": "python",
   "nbconvert_exporter": "python",
   "pygments_lexer": "ipython3",
   "version": "3.9.7"
  }
 },
 "nbformat": 4,
 "nbformat_minor": 4
}
